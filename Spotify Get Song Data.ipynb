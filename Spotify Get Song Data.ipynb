{
 "cells": [
  {
   "cell_type": "code",
   "execution_count": null,
   "metadata": {
    "colab": {},
    "colab_type": "code",
    "id": "j-N5p_JFv2cY"
   },
   "outputs": [],
   "source": [
    "import pandas as pd \n",
    "import time \n",
    "import seaborn as sns\n",
    "import numpy as  np\n",
    "from dateutil.parser import parse as parse_date\n",
    "from matplotlib import pyplot as plt\n",
    "import datetime\n",
    "\n",
    "%matplotlib inline"
   ]
  },
  {
   "cell_type": "code",
   "execution_count": null,
   "metadata": {
    "colab": {},
    "colab_type": "code",
    "id": "vhGmZypfxeMd"
   },
   "outputs": [],
   "source": [
    "#install spotipy as its not on colab\n",
    "!pip install spotipy "
   ]
  },
  {
   "cell_type": "code",
   "execution_count": null,
   "metadata": {
    "colab": {},
    "colab_type": "code",
    "id": "lL3BW7x1Y4wX"
   },
   "outputs": [],
   "source": [
    "#add details to connect to API\n",
    "USERNAME = '' #your spotify username\n",
    "CLIENT_ID = \"\" #set at your developer account\n",
    "CLIENT_SECRET = \"\" #set at your developer account\n",
    "REDIRECT_URI =  'http://localhost:8000/' #set at your developer account, usually \"http://localhost:8000\"\n",
    "SCOPE = \"user-read-private user-read-email user-read-playback-state user-read-currently-playing user-library-read\" # or else"
   ]
  },
  {
   "cell_type": "code",
   "execution_count": null,
   "metadata": {
    "colab": {},
    "colab_type": "code",
    "id": "n_jHHB__v6eh"
   },
   "outputs": [],
   "source": [
    "## log in my credentials for API\n",
    "import spotipy\n",
    "from spotipy.oauth2 import SpotifyClientCredentials #To access authorised Spotify data\n",
    "import spotipy.util as util\n",
    "\n",
    "sp = spotipy.Spotify() \n",
    "from spotipy.oauth2 import SpotifyClientCredentials \n",
    "cid =\"\" \n",
    "secret = \"\" \n",
    "client_credentials_manager = SpotifyClientCredentials(client_id=cid, client_secret=secret) \n",
    "sp = spotipy.Spotify(client_credentials_manager=client_credentials_manager) \n",
    "sp.trace=False "
   ]
  },
  {
   "cell_type": "code",
   "execution_count": null,
   "metadata": {
    "colab": {},
    "colab_type": "code",
    "id": "gHx6Rhr27qGr"
   },
   "outputs": [],
   "source": [
    "#select a 'playlist' (all my liked songs)\n",
    "playlist = sp.user_playlist(\"\", \"\")"
   ]
  },
  {
   "cell_type": "code",
   "execution_count": null,
   "metadata": {},
   "outputs": [],
   "source": [
    "playlist"
   ]
  },
  {
   "cell_type": "code",
   "execution_count": null,
   "metadata": {
    "colab": {
     "base_uri": "https://localhost:8080/",
     "height": 51
    },
    "colab_type": "code",
    "id": "6O7RP9TW7mtw",
    "outputId": "9f0248bd-d513-4a15-c941-6bcd5f35c3ec"
   },
   "outputs": [],
   "source": [
    "#iterate through the playlistand append every item. \n",
    "good_tracks_1 = playlist[\"tracks\"]\n",
    "good_songs_1 = good_tracks_1[\"items\"] \n",
    "while good_tracks_1['next']:\n",
    "    good_tracks_1 = sp.next(good_tracks_1)\n",
    "    for item in good_tracks_1[\"items\"]:\n",
    "        good_songs_1.append(item)\n",
    "good_ids = [] \n",
    "print(len(good_songs_1))\n",
    "for i in range(len(good_songs_1)):\n",
    "    good_ids.append(good_songs_1[i]['track']['id'])\n",
    "print(len(good_tracks_1))\n",
    "\n",
    "data = pd.DataFrame()\n",
    "\n",
    "data['added_at'] = list()\n",
    "added_at = []\n",
    "ident = []\n",
    "\n",
    "for i in good_songs_1:\n",
    "    added_at.append(i['added_at'])\n",
    "    ident.append(i['track']['id'])\n",
    "    \n",
    "data['added_at'] = added_at\n",
    "    \n",
    "    "
   ]
  },
  {
   "cell_type": "code",
   "execution_count": null,
   "metadata": {},
   "outputs": [],
   "source": [
    "data['added_at'].value_counts()"
   ]
  },
  {
   "cell_type": "code",
   "execution_count": null,
   "metadata": {},
   "outputs": [],
   "source": [
    "#remove weird null from list\n",
    "good_ids = [i for i in good_ids if i]"
   ]
  },
  {
   "cell_type": "code",
   "execution_count": null,
   "metadata": {
    "colab": {},
    "colab_type": "code",
    "id": "Jb1MyRe1B1r-"
   },
   "outputs": [],
   "source": [
    "#Here is where we get all of the audio_features for the tracks on the good playlists.\n",
    "features = []\n",
    "inSavedTracks = []\n",
    "j = 0\n",
    "for i in range(0,len(good_ids),50):\n",
    "    audio_features = sp.audio_features(good_ids[i:i+50])\n",
    "    for track in audio_features:\n",
    "        features.append(track)\n",
    "        track = good_songs_1[j]\n",
    "        j= j+1\n",
    "        features[-1]['Artist'] =  track['track']['artists'][0]['name']\n",
    "        features[-1]['TrackName'] =  track['track']['name']\n",
    "        features[-1]['ReleaseDate'] =   pd.to_datetime(track['track']['album']['release_date']) if track['track']['album']['release_date'] else None     \n",
    "        features[-1]['trackPopularity'] = track['track']['popularity']\n",
    "        features[-1]['target'] = 1"
   ]
  },
  {
   "cell_type": "code",
   "execution_count": null,
   "metadata": {
    "colab": {},
    "colab_type": "code",
    "id": "azLhMATnCA2j"
   },
   "outputs": [],
   "source": [
    "##turn into a dataframe for analysis\n",
    "featurelist = pd.DataFrame(features)"
   ]
  },
  {
   "cell_type": "code",
   "execution_count": null,
   "metadata": {
    "colab": {
     "base_uri": "https://localhost:8080/",
     "height": 309
    },
    "colab_type": "code",
    "id": "IywQIYBRCKZz",
    "outputId": "2400c5f5-c26f-401a-a2ea-1faabcc6af5c"
   },
   "outputs": [],
   "source": [
    "featurelist.head()"
   ]
  },
  {
   "cell_type": "code",
   "execution_count": null,
   "metadata": {
    "colab": {
     "base_uri": "https://localhost:8080/",
     "height": 541
    },
    "colab_type": "code",
    "id": "2ooUEDYxCgWG",
    "outputId": "ace101c3-80e7-47d2-b09d-da885e03778a"
   },
   "outputs": [],
   "source": [
    "## now remove any uncessary columns\n",
    "featurelist.drop(columns=['id', 'key', 'mode','type', 'uri','track_href','analysis_url', 'duration_ms', 'time_signature'])"
   ]
  },
  {
   "cell_type": "code",
   "execution_count": null,
   "metadata": {
    "colab": {
     "base_uri": "https://localhost:8080/",
     "height": 317
    },
    "colab_type": "code",
    "id": "VkXrZwEJFduB",
    "outputId": "1d15d5b7-5d09-44a6-a4df-12730afa44e5"
   },
   "outputs": [],
   "source": [
    "##show averages across featurelist\n",
    "featurelist.describe()"
   ]
  },
  {
   "cell_type": "code",
   "execution_count": null,
   "metadata": {
    "colab": {},
    "colab_type": "code",
    "id": "f0Cf8rarGxUa"
   },
   "outputs": [],
   "source": [
    "##numerical features \n",
    "num_features = featurelist[['danceability','energy','speechiness','acousticness','instrumentalness', 'liveness', 'valence']]"
   ]
  },
  {
   "cell_type": "code",
   "execution_count": null,
   "metadata": {
    "colab": {
     "base_uri": "https://localhost:8080/",
     "height": 483
    },
    "colab_type": "code",
    "id": "fJkN2aTKFpce",
    "outputId": "d0e7c840-b014-4d93-f1ed-ed237b329ffe"
   },
   "outputs": [],
   "source": [
    "##plot the mean of every feature across all songs, sho which songs i have most \n",
    "\n",
    "fig = num_features.mean().plot(kind='barh')"
   ]
  },
  {
   "cell_type": "code",
   "execution_count": null,
   "metadata": {
    "colab": {
     "base_uri": "https://localhost:8080/",
     "height": 359
    },
    "colab_type": "code",
    "id": "R6DCVGNUGXY2",
    "outputId": "fd7e6fd6-5c39-4fab-a7f5-694aadfd02ca"
   },
   "outputs": [],
   "source": [
    "##show the most danceable song in my list\n",
    "ordered = featurelist[['Artist', 'TrackName', 'danceability','energy','speechiness','acousticness','instrumentalness', 'liveness', 'valence']]\n",
    "grouped2 = ordered.sort_values('danceability', ascending=False)\n",
    "grouped2.head(20)"
   ]
  },
  {
   "cell_type": "code",
   "execution_count": null,
   "metadata": {
    "colab": {
     "base_uri": "https://localhost:8080/",
     "height": 359
    },
    "colab_type": "code",
    "id": "1N0OggzvIYxN",
    "outputId": "1106ca26-35c0-4593-e680-f18411c0495e"
   },
   "outputs": [],
   "source": [
    "#show least energetic songs in my list.\n",
    "ordered = featurelist[['Artist', 'TrackName', 'danceability','energy','speechiness','acousticness','instrumentalness', 'liveness', 'valence']]\n",
    "grouped2 = ordered.sort_values('energy', ascending=True)\n",
    "grouped3 = grouped2.iloc[:]\n",
    "grouped3.head(10)"
   ]
  },
  {
   "cell_type": "code",
   "execution_count": null,
   "metadata": {
    "colab": {},
    "colab_type": "code",
    "id": "V3KK3PmoKzWY"
   },
   "outputs": [],
   "source": [
    "print(len(featurelist))"
   ]
  },
  {
   "cell_type": "code",
   "execution_count": null,
   "metadata": {},
   "outputs": [],
   "source": [
    "danceable = ordered.sort_values('danceability', ascending=False)"
   ]
  },
  {
   "cell_type": "code",
   "execution_count": null,
   "metadata": {},
   "outputs": [],
   "source": [
    "danceable.head(15)"
   ]
  },
  {
   "cell_type": "code",
   "execution_count": null,
   "metadata": {},
   "outputs": [],
   "source": [
    "danceable.to_csv('/Users/jackohagan/Documents/datascience/Spotify/songnamedata.csv')"
   ]
  },
  {
   "cell_type": "code",
   "execution_count": null,
   "metadata": {},
   "outputs": [],
   "source": []
  },
  {
   "cell_type": "code",
   "execution_count": null,
   "metadata": {},
   "outputs": [],
   "source": []
  },
  {
   "cell_type": "code",
   "execution_count": null,
   "metadata": {},
   "outputs": [],
   "source": []
  },
  {
   "cell_type": "code",
   "execution_count": null,
   "metadata": {},
   "outputs": [],
   "source": []
  },
  {
   "cell_type": "code",
   "execution_count": null,
   "metadata": {},
   "outputs": [],
   "source": []
  },
  {
   "cell_type": "code",
   "execution_count": null,
   "metadata": {},
   "outputs": [],
   "source": []
  },
  {
   "cell_type": "code",
   "execution_count": null,
   "metadata": {},
   "outputs": [],
   "source": []
  },
  {
   "cell_type": "code",
   "execution_count": null,
   "metadata": {},
   "outputs": [],
   "source": []
  },
  {
   "cell_type": "code",
   "execution_count": null,
   "metadata": {},
   "outputs": [],
   "source": []
  },
  {
   "cell_type": "code",
   "execution_count": null,
   "metadata": {},
   "outputs": [],
   "source": []
  },
  {
   "cell_type": "code",
   "execution_count": null,
   "metadata": {},
   "outputs": [],
   "source": []
  },
  {
   "cell_type": "code",
   "execution_count": null,
   "metadata": {},
   "outputs": [],
   "source": []
  },
  {
   "cell_type": "code",
   "execution_count": null,
   "metadata": {},
   "outputs": [],
   "source": []
  },
  {
   "cell_type": "code",
   "execution_count": null,
   "metadata": {},
   "outputs": [],
   "source": []
  },
  {
   "cell_type": "code",
   "execution_count": null,
   "metadata": {},
   "outputs": [],
   "source": []
  }
 ],
 "metadata": {
  "colab": {
   "collapsed_sections": [],
   "name": "Spotify Playlist Analysis.ipynb",
   "provenance": []
  },
  "kernelspec": {
   "display_name": "Python 3",
   "language": "python",
   "name": "python3"
  },
  "language_info": {
   "codemirror_mode": {
    "name": "ipython",
    "version": 3
   },
   "file_extension": ".py",
   "mimetype": "text/x-python",
   "name": "python",
   "nbconvert_exporter": "python",
   "pygments_lexer": "ipython3",
   "version": "3.8.3"
  }
 },
 "nbformat": 4,
 "nbformat_minor": 1
}
